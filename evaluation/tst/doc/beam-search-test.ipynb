{
 "cells": [
  {
   "cell_type": "code",
   "execution_count": 1,
   "id": "f10c4aa2",
   "metadata": {},
   "outputs": [],
   "source": [
    "%config Completer.use_jedi = False"
   ]
  },
  {
   "cell_type": "code",
   "execution_count": 2,
   "id": "d457952e",
   "metadata": {},
   "outputs": [],
   "source": [
    "import sys\n",
    "modules_path = '../modules/'\n",
    "sys.path.insert(0, modules_path)"
   ]
  },
  {
   "cell_type": "code",
   "execution_count": 3,
   "id": "3d17e62f",
   "metadata": {},
   "outputs": [],
   "source": [
    "from transformers import AutoTokenizer, pipeline\n",
    "from torch.utils.data import Dataset\n",
    "from tqdm import tqdm\n",
    "import json"
   ]
  },
  {
   "cell_type": "code",
   "execution_count": 4,
   "id": "793f04bf",
   "metadata": {},
   "outputs": [],
   "source": [
    "def postprocess_output(text, end_punct='\"', start_punct=None):         \n",
    "    try: \n",
    "        end = text.index(end_punct)\n",
    "    except ValueError: \n",
    "        end = len(text)\n",
    "    text = text[:end].strip()\n",
    "    # return text    \n",
    "    if start_punct is not None: \n",
    "        start = text.find(start_punct)\n",
    "        while start >= 0: \n",
    "            text = text[start+1:].strip()\n",
    "            start = text.find(start_punct)\n",
    "\n",
    "    try: \n",
    "        end = text.index('.')\n",
    "    except ValueError: \n",
    "        end = len(text)\n",
    "\n",
    "    try: \n",
    "        end = min(end, text.index('!'))\n",
    "    except ValueError: \n",
    "        end = end\n",
    "\n",
    "    try: \n",
    "        end = min(end, text.index('?'))\n",
    "    except ValueError: \n",
    "        end = end\n",
    "\n",
    "    return text[:end+1].strip().lower()"
   ]
  },
  {
   "cell_type": "code",
   "execution_count": 5,
   "id": "e4722f1d",
   "metadata": {},
   "outputs": [],
   "source": [
    "model_name = 'gpt2-xl'\n",
    "tokenizer = AutoTokenizer.from_pretrained(model_name, pad_token='<|endoftext|>')\n",
    "generator = pipeline(\"text-generation\",\n",
    "                          model=model_name,\n",
    "                          tokenizer=tokenizer,\n",
    "                          device=0)"
   ]
  },
  {
   "cell_type": "code",
   "execution_count": 6,
   "id": "a28b6f12",
   "metadata": {},
   "outputs": [],
   "source": [
    "tst_template = '{prompt} \"{sentence_1}\" \"'"
   ]
  },
  {
   "cell_type": "code",
   "execution_count": 7,
   "id": "98597247",
   "metadata": {},
   "outputs": [],
   "source": [
    "prompt = 'Fixed (− contrasts contrasts contrasts'\n",
    "sentence_1 = \"it's small yet they make you feel right at home.\"\n",
    "formatted_template = tst_template.format(prompt=prompt, sentence_1=sentence_1)"
   ]
  },
  {
   "cell_type": "code",
   "execution_count": 10,
   "id": "6c0da9b6",
   "metadata": {},
   "outputs": [],
   "source": [
    "# generator_outputs = generator(formatted_template,\n",
    "#                                     pad_token_id=50256,\n",
    "#                                     top_k=10,\n",
    "#                                     top_p=1.0,\n",
    "#                                     num_return_sequences=32,\n",
    "#                                     temperature=1,\n",
    "#                                     # Only return generated text, without the prompt\n",
    "#                                     return_full_text=False)"
   ]
  },
  {
   "cell_type": "code",
   "execution_count": 44,
   "id": "dcc569da",
   "metadata": {},
   "outputs": [
    {
     "name": "stdout",
     "output_type": "stream",
     "text": [
      "2.22 s ± 4.55 ms per loop (mean ± std. dev. of 7 runs, 1 loop each)\n"
     ]
    }
   ],
   "source": [
    "%%timeit\n",
    "generator_outputs = generator(formatted_template,\n",
    "                                pad_token_id=50256,\n",
    "                                # top_k=10,\n",
    "                                # top_p=1.0,\n",
    "                               do_sample=True,\n",
    "                                num_beams=10,\n",
    "                               \n",
    "                                num_return_sequences=10,\n",
    "                                # temperature=1,\n",
    "                               output_scores=True,\n",
    "                                # Only return generated text, without the prompt\n",
    "                                return_full_text=False)"
   ]
  },
  {
   "cell_type": "code",
   "execution_count": 9,
   "id": "9ae7590a",
   "metadata": {},
   "outputs": [
    {
     "name": "stderr",
     "output_type": "stream",
     "text": [
      "/opt/conda/envs/sql-203/lib/python3.8/site-packages/transformers/pipelines/base.py:997: UserWarning: You seem to be using the pipelines sequentially on GPU. In order to maximize efficiency please use a dataset\n",
      "  warnings.warn(\n"
     ]
    },
    {
     "name": "stdout",
     "output_type": "stream",
     "text": [
      "1.26 s ± 614 µs per loop (mean ± std. dev. of 7 runs, 1 loop each)\n"
     ]
    }
   ],
   "source": [
    "%%timeit\n",
    "generator_outputs = generator(formatted_template,\n",
    "                                pad_token_id=50256,\n",
    "                                # top_k=10,\n",
    "                                # top_p=1.0,\n",
    "                               do_sample=True,\n",
    "                                num_beams=10,\n",
    "                                num_return_sequences=3,\n",
    "                               output_scores=True,\n",
    "                                # Only return generated text, without the prompt\n",
    "                                return_full_text=False)"
   ]
  },
  {
   "cell_type": "code",
   "execution_count": 45,
   "id": "a23fdac1",
   "metadata": {},
   "outputs": [
    {
     "name": "stdout",
     "output_type": "stream",
     "text": [
      "1.11 s ± 1.6 ms per loop (mean ± std. dev. of 7 runs, 1 loop each)\n"
     ]
    }
   ],
   "source": [
    "%%timeit\n",
    "generator_outputs = generator(formatted_template,\n",
    "                                pad_token_id=50256,\n",
    "                                # top_k=10,\n",
    "                                # top_p=1.0,\n",
    "                               do_sample=True,\n",
    "                                num_beams=10,\n",
    "                               \n",
    "                                num_return_sequences=1,\n",
    "                                # temperature=1,\n",
    "                               output_scores=True,\n",
    "                                # Only return generated text, without the prompt\n",
    "                                return_full_text=False)"
   ]
  },
  {
   "cell_type": "code",
   "execution_count": 8,
   "id": "2bc9ba5e",
   "metadata": {},
   "outputs": [
    {
     "name": "stdout",
     "output_type": "stream",
     "text": [
      "1.04 s ± 1.22 ms per loop (mean ± std. dev. of 7 runs, 1 loop each)\n"
     ]
    }
   ],
   "source": [
    "%%timeit\n",
    "generator_outputs = generator(formatted_template,\n",
    "                                pad_token_id=50256,\n",
    "                                top_k=10,\n",
    "                                # top_p=1.0,\n",
    "                               do_sample=True,\n",
    "                                # num_beams=10,\n",
    "                               \n",
    "                                num_return_sequences=32,\n",
    "                                # temperature=1,\n",
    "                               output_scores=True,\n",
    "                                # Only return generated text, without the prompt\n",
    "                                return_full_text=False)"
   ]
  },
  {
   "cell_type": "code",
   "execution_count": null,
   "id": "d61ffb81",
   "metadata": {},
   "outputs": [],
   "source": []
  },
  {
   "cell_type": "code",
   "execution_count": 42,
   "id": "b15ec349",
   "metadata": {},
   "outputs": [
    {
     "data": {
      "text/plain": [
       "[\"it's big yet they make you feel out of place.\"]"
      ]
     },
     "execution_count": 42,
     "metadata": {},
     "output_type": "execute_result"
    }
   ],
   "source": [
    "[postprocess_output(o['generated_text']) for o in generator_outputs]"
   ]
  },
  {
   "cell_type": "code",
   "execution_count": 14,
   "id": "329551a8",
   "metadata": {},
   "outputs": [
    {
     "data": {
      "text/plain": [
       "[\"it's big yet they make you feel right at home.\",\n",
       " \"it's large yet they make you feel right at home.\",\n",
       " \"it's big yet they make you feel right at home.\",\n",
       " \"it's big yet they make you feel out of place.\",\n",
       " \"it's big yet they make you feel at home.\",\n",
       " \"it's big yet they make you feel out of place.\",\n",
       " \"it's big yet they make you feel right at home.\",\n",
       " \"it's small yet they make you feel right at home.\",\n",
       " \"it's big yet they make you feel right at home.\",\n",
       " \"it's small yet they make you feel right at home.\"]"
      ]
     },
     "execution_count": 14,
     "metadata": {},
     "output_type": "execute_result"
    }
   ],
   "source": [
    "[postprocess_output(o['generated_text']) for o in generator_outputs]"
   ]
  },
  {
   "cell_type": "code",
   "execution_count": 16,
   "id": "b9634757",
   "metadata": {},
   "outputs": [
    {
     "data": {
      "text/plain": [
       "[\"it's big yet they make you feel out of place.\",\n",
       " \"it's big yet they make you feel right at home.\",\n",
       " \"it's big yet they make you feel right at home.\",\n",
       " \"it's big yet they make you feel small.\",\n",
       " \"it's big yet they make you feel out of place.\",\n",
       " \"it's big yet they make you feel right at home.\",\n",
       " \"it's big yet they make you feel out of place.\",\n",
       " \"it's big yet they make you feel out of place.\",\n",
       " \"it's big yet they make you feel small.\",\n",
       " \"it's big yet they make you feel right at home.\"]"
      ]
     },
     "execution_count": 16,
     "metadata": {},
     "output_type": "execute_result"
    }
   ],
   "source": [
    "[postprocess_output(o['generated_text']) for o in generator_outputs]"
   ]
  },
  {
   "cell_type": "code",
   "execution_count": 18,
   "id": "e20c9187",
   "metadata": {},
   "outputs": [
    {
     "data": {
      "text/plain": [
       "[\"it's big yet they make you feel out of place.\",\n",
       " \"it's small yet they make you feel right at home.\",\n",
       " \"it's small yet they make you feel right at home.\",\n",
       " \"it's small yet they make you feel right at home.\",\n",
       " \"it's small yet they make you feel out of place.\",\n",
       " \"it's small yet they make you feel right at home.\",\n",
       " \"it's big yet they make you feel right at home.\",\n",
       " \"it's big yet they make you feel right at home.\",\n",
       " \"it's small yet they make you feel right at home.\",\n",
       " \"it's big yet they make you feel out of place.\"]"
      ]
     },
     "execution_count": 18,
     "metadata": {},
     "output_type": "execute_result"
    }
   ],
   "source": [
    "[postprocess_output(o['generated_text']) for o in generator_outputs]"
   ]
  },
  {
   "cell_type": "code",
   "execution_count": null,
   "id": "e27f6642",
   "metadata": {},
   "outputs": [],
   "source": []
  },
  {
   "cell_type": "code",
   "execution_count": 14,
   "id": "2107fa57",
   "metadata": {},
   "outputs": [
    {
     "data": {
      "text/plain": [
       "['small',\n",
       " \"it's large yet they make you feel out of place\",\n",
       " \"it's big but you feel like you're not quite in it.\",\n",
       " \"it's large yet they make you feel small.\",\n",
       " \"it's small yet they make you feel right at home.\",\n",
       " 'the people are nice and welcoming.',\n",
       " \"i know it's small but i still like it.\",\n",
       " \"it's big but they make you feel small.\",\n",
       " \"it's big, they make you feel right at home.\",\n",
       " 'i feel like i can go anywhere.',\n",
       " \"it's large but it's so much easier to navigate.\",\n",
       " \"it's large and intimidating, yet they make you feel right at home.\",\n",
       " \"you're a good friend, but it's small yet i feel right at home.\",\n",
       " \"it's small and it's not at home.\",\n",
       " \"it's big, but it's home.\",\n",
       " \"it's big yet they make you feel like you could live there forever.\",\n",
       " \"it's large but they make you feel small.\",\n",
       " \"you don't have to feel small at all.\",\n",
       " \"it's small yet they make you feel right at home.\",\n",
       " \"it's very small, and they make you feel like an intruder.\",\n",
       " \"it's large enough, but not so big that you need to feel comfortable there.\",\n",
       " 'small yet they make you feel right in the room.',\n",
       " \"it's big and they're so busy!\",\n",
       " \"it's bigger yet they are weird.\",\n",
       " \"it's big but they make you feel small.\",\n",
       " 'i think i might need an ice pack',\n",
       " \"small but it's big for them,\",\n",
       " \"it's large and they have the space you'd need to do their work.\",\n",
       " 'they make you feel like you know people here and they know you.',\n",
       " \"it's large and they feel like strangers.\",\n",
       " \"it's big yet the people you're seeing are strangers.\",\n",
       " \"it's large.\"]"
      ]
     },
     "execution_count": 14,
     "metadata": {},
     "output_type": "execute_result"
    }
   ],
   "source": [
    "[postprocess_output(o['generated_text']) for o in generator_outputs]"
   ]
  },
  {
   "cell_type": "code",
   "execution_count": null,
   "id": "659f2c90",
   "metadata": {},
   "outputs": [],
   "source": []
  }
 ],
 "metadata": {
  "kernelspec": {
   "display_name": "sql-203",
   "language": "python",
   "name": "sql-203"
  },
  "language_info": {
   "codemirror_mode": {
    "name": "ipython",
    "version": 3
   },
   "file_extension": ".py",
   "mimetype": "text/x-python",
   "name": "python",
   "nbconvert_exporter": "python",
   "pygments_lexer": "ipython3",
   "version": "3.8.13"
  }
 },
 "nbformat": 4,
 "nbformat_minor": 5
}
