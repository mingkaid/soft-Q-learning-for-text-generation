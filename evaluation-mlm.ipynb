{
 "cells": [
  {
   "cell_type": "code",
   "execution_count": 1,
   "id": "1bc16988-0335-4340-aa8d-0b9fc691275a",
   "metadata": {},
   "outputs": [],
   "source": [
    "import torch\n",
    "import numpy as np\n",
    "import random\n",
    "import yaml\n",
    "from argparse import Namespace\n",
    "from torch.utils.data import DataLoader\n",
    "from tqdm.notebook import tqdm\n",
    "from transformers import (\n",
    "    AutoTokenizer, \n",
    "    AutoModelForMaskedLM\n",
    ")\n",
    "from tasks.dataset import FewShotDataset\n",
    "from tasks.processors import compute_metrics_mapping"
   ]
  },
  {
   "cell_type": "code",
   "execution_count": 13,
   "id": "84100c53-a86e-43d7-b706-9a878c27c36b",
   "metadata": {},
   "outputs": [],
   "source": [
    "seed = 100"
   ]
  },
  {
   "cell_type": "code",
   "execution_count": 14,
   "id": "cee10bd1-caa7-4147-b136-ae13d8d42b05",
   "metadata": {},
   "outputs": [
    {
     "data": {
      "text/plain": [
       "' totally really really really really'"
      ]
     },
     "execution_count": 14,
     "metadata": {},
     "output_type": "execute_result"
    }
   ],
   "source": [
    "s2_prompt_100 = ' totally really really really really'\n",
    "\n",
    "prompt_100 = 'absolutely seriously Absolutely Simply Simply'\n",
    "# prompt_100 = 'charact charact utterly absolutely absolutely'\n",
    "prompt_87 = 'absolutely unequivocallyliterally unequivocally unequivocally'\n",
    "prompt_string = s2_prompt_100\n",
    "# prompt_string = tokenizer.convert_tokens_to_string(prompt.split())\n",
    "prompt_string"
   ]
  },
  {
   "cell_type": "code",
   "execution_count": 15,
   "id": "55da2a00-b82d-481e-92aa-9380e90fb34e",
   "metadata": {},
   "outputs": [],
   "source": [
    "torch.manual_seed(seed)\n",
    "np.random.seed(seed)\n",
    "random.seed(seed)"
   ]
  },
  {
   "cell_type": "code",
   "execution_count": 16,
   "id": "be4aa9a9-cc37-478a-b9c3-7db213ad6e42",
   "metadata": {},
   "outputs": [],
   "source": [
    "device = torch.device('cuda')\n",
    "tokenizer = AutoTokenizer.from_pretrained('roberta-large')\n",
    "generator = AutoModelForMaskedLM.from_pretrained('roberta-large').to(device)"
   ]
  },
  {
   "cell_type": "code",
   "execution_count": 17,
   "id": "a546f455-110a-45bb-8c6d-35c982be5b5b",
   "metadata": {},
   "outputs": [],
   "source": [
    "with open(\"configs/config.yaml\", \"r\") as f:\n",
    "    config = yaml.load(f, Loader=yaml.FullLoader)\n",
    "config = config['translation']['classification']\n",
    "config = Namespace(**config)"
   ]
  },
  {
   "cell_type": "code",
   "execution_count": 50,
   "id": "62ece621-d3c1-4410-a50f-8a373becc0ec",
   "metadata": {},
   "outputs": [
    {
     "data": {
      "text/plain": [
       "Namespace(data_dir='/home/c2hsieh/soft-Q-learning-for-text-generation/tasks/k-shot/SST-2/16-13', debug_mode=False, demo_filter=False, demo_filter_model=None, demo_filter_rate=0.5, first_sent_limit=None, gpt3_in_context_head=False, gpt3_in_context_num=32, gpt3_in_context_tail=False, mapping=\"{'0':'terrible','1':'great'}\", max_seq_length=512, num_sample=16, other_sent_limit=None, overwrite_cache=None, prompt=True, task_name='sst-2', template='*cls**sent_0*_It_was*mask*.*sep**sent_1*_It_was*label_0*.*sep**sent_2*_It_was*label_1*.*sep+*', template_list=None, use_demo=False)"
      ]
     },
     "execution_count": 50,
     "metadata": {},
     "output_type": "execute_result"
    }
   ],
   "source": [
    "task_name = \"SST-2\"\n",
    "config.task_name = task_name.lower()\n",
    "# config.template = \"*cls**sent_0*_It_was*mask*.*sep+*\"\n",
    "config.template = \"*cls**sent_0*_It_was*mask*.*sep**sent_1*_It_was*label_0*.*sep**sent_2*_It_was*label_1*.*sep+*\"\n",
    "config.mapping = \"{\\'0\\':\\'terrible\\',\\'1\\':\\'great\\'}\"\n",
    "config.data_dir = f\"/home/c2hsieh/soft-Q-learning-for-text-generation/tasks/k-shot/{task_name}/16-{seed}\"\n",
    "config"
   ]
  },
  {
   "cell_type": "code",
   "execution_count": 16,
   "id": "e4162dc8-68c3-4d0b-aea6-e94b646b0323",
   "metadata": {},
   "outputs": [
    {
     "data": {
      "text/plain": [
       "Namespace(data_dir='/home/c2hsieh/soft-Q-learning-for-text-generation/tasks/k-shot/sst-5/16-100', debug_mode=False, demo_filter=False, demo_filter_model=None, demo_filter_rate=0.5, first_sent_limit=None, gpt3_in_context_head=False, gpt3_in_context_num=32, gpt3_in_context_tail=False, mapping=\"{0:'terrible',1:'bad',2:'okay',3:'good',4:'great'}\", max_seq_length=512, num_sample=16, other_sent_limit=None, overwrite_cache=None, prompt=True, task_name='sst-5', template='*cls**sent_0*_It_was*mask*.*sep+*', template_list=None, use_demo=False)"
      ]
     },
     "execution_count": 16,
     "metadata": {},
     "output_type": "execute_result"
    }
   ],
   "source": [
    "task_name = \"sst-5\"\n",
    "config.task_name = task_name.lower()\n",
    "config.template = \"*cls**sent_0*_It_was*mask*.*sep+*\"\n",
    "config.mapping = \"{0:\\'terrible\\',1:\\'bad\\',2:\\'okay\\',3:\\'good\\',4:\\'great\\'}\"\n",
    "config.data_dir = f\"/home/c2hsieh/soft-Q-learning-for-text-generation/tasks/k-shot/{task_name}/16-{seed}\"\n",
    "config"
   ]
  },
  {
   "cell_type": "code",
   "execution_count": 18,
   "id": "0ee574da-c62e-406e-85f2-d609f037f03c",
   "metadata": {},
   "outputs": [
    {
     "data": {
      "text/plain": [
       "Namespace(data_dir='/home/c2hsieh/soft-Q-learning-for-text-generation/tasks/k-shot/MRPC/16-100', debug_mode=False, demo_filter=False, demo_filter_model=None, demo_filter_rate=0.5, first_sent_limit=None, gpt3_in_context_head=False, gpt3_in_context_num=32, gpt3_in_context_tail=False, mapping=\"{'0':'No','1':'Yes'}\", max_seq_length=512, num_sample=16, other_sent_limit=None, overwrite_cache=None, prompt=True, task_name='mrpc', template='*cls**sent_0**mask*,*+sentl_1**sep**sent_2**label_0*,*+sentl_3**sep**sent_4**label_1*,*+sentl_5**sep*', template_list=None, use_demo=False)"
      ]
     },
     "execution_count": 18,
     "metadata": {},
     "output_type": "execute_result"
    }
   ],
   "source": [
    "task_name = \"MRPC\"\n",
    "config.task_name = task_name.lower()\n",
    "# config.template = \"*cls**sent_0**mask*,*+sentl_1**sep+*\"\n",
    "config.template = \"*cls**sent_0**mask*,*+sentl_1**sep**sent_2**label_0*,*+sentl_3**sep**sent_4**label_1*,*+sentl_5**sep*\"\n",
    "config.mapping = \"{'0':'No','1':'Yes'}\"\n",
    "config.data_dir = f\"/home/c2hsieh/soft-Q-learning-for-text-generation/tasks/k-shot/{task_name}/16-{seed}\"\n",
    "config"
   ]
  },
  {
   "cell_type": "code",
   "execution_count": 21,
   "id": "5cb04cfa-4d91-4206-ac39-9b07581f5aa1",
   "metadata": {},
   "outputs": [
    {
     "data": {
      "text/plain": [
       "Namespace(data_dir='/home/c2hsieh/soft-Q-learning-for-text-generation/tasks/k-shot/mr/16-100', debug_mode=False, demo_filter=False, demo_filter_model=None, demo_filter_rate=0.5, first_sent_limit=None, gpt3_in_context_head=False, gpt3_in_context_num=32, gpt3_in_context_tail=False, mapping=\"{0:'terrible',1:'great'}\", max_seq_length=512, num_sample=16, other_sent_limit=None, overwrite_cache=None, prompt=True, task_name='mr', template='*cls**sent_0*_It_was*mask*.*sep+*', template_list=None, use_demo=False)"
      ]
     },
     "execution_count": 21,
     "metadata": {},
     "output_type": "execute_result"
    }
   ],
   "source": [
    "task_name = \"mr\"\n",
    "config.task_name = task_name.lower()\n",
    "config.template = \"*cls**sent_0*_It_was*mask*.*sep+*\"\n",
    "config.mapping = \"{0:'terrible',1:'great'}\"\n",
    "config.data_dir = f\"/home/c2hsieh/soft-Q-learning-for-text-generation/tasks/k-shot/{task_name}/16-{seed}\"\n",
    "config"
   ]
  },
  {
   "cell_type": "code",
   "execution_count": 26,
   "id": "67760e0d-af92-4a2d-8a42-fd9ac695b4cd",
   "metadata": {},
   "outputs": [
    {
     "data": {
      "text/plain": [
       "Namespace(data_dir='/home/c2hsieh/soft-Q-learning-for-text-generation/tasks/k-shot/cr/16-100', debug_mode=False, demo_filter=False, demo_filter_model=None, demo_filter_rate=0.5, first_sent_limit=None, gpt3_in_context_head=False, gpt3_in_context_num=32, gpt3_in_context_tail=False, mapping=\"{0:'terrible',1:'great'}\", max_seq_length=512, num_sample=16, other_sent_limit=None, overwrite_cache=None, prompt=True, task_name='cr', template='*cls**sent_0*_It_was*mask*.*sep+*', template_list=None, use_demo=False)"
      ]
     },
     "execution_count": 26,
     "metadata": {},
     "output_type": "execute_result"
    }
   ],
   "source": [
    "task_name = \"cr\"\n",
    "config.task_name = task_name.lower()\n",
    "config.template = \"*cls**sent_0*_It_was*mask*.*sep+*\"\n",
    "config.mapping = \"{0:'terrible',1:'great'}\"\n",
    "config.data_dir = f\"/home/c2hsieh/soft-Q-learning-for-text-generation/tasks/k-shot/{task_name}/16-{seed}\"\n",
    "config"
   ]
  },
  {
   "cell_type": "code",
   "execution_count": 32,
   "id": "5c62bad2-a189-4fdd-a68d-b21c51c2dd3a",
   "metadata": {},
   "outputs": [
    {
     "data": {
      "text/plain": [
       "Namespace(data_dir='/home/c2hsieh/soft-Q-learning-for-text-generation/tasks/k-shot/mpqa/16-100', debug_mode=False, demo_filter=False, demo_filter_model=None, demo_filter_rate=0.5, first_sent_limit=None, gpt3_in_context_head=False, gpt3_in_context_num=32, gpt3_in_context_tail=False, mapping=\"{0:'terrible',1:'great'}\", max_seq_length=512, num_sample=16, other_sent_limit=None, overwrite_cache=None, prompt=True, task_name='mpqa', template='*cls**sent_0*_It_was*mask*.*sep+*', template_list=None, use_demo=False)"
      ]
     },
     "execution_count": 32,
     "metadata": {},
     "output_type": "execute_result"
    }
   ],
   "source": [
    "task_name = \"mpqa\"\n",
    "config.task_name = task_name.lower()\n",
    "config.template = \"*cls**sent_0*_It_was*mask*.*sep+*\"\n",
    "config.mapping = \"{0:'terrible',1:'great'}\"\n",
    "config.data_dir = f\"/home/c2hsieh/soft-Q-learning-for-text-generation/tasks/k-shot/{task_name}/16-{seed}\"\n",
    "config"
   ]
  },
  {
   "cell_type": "code",
   "execution_count": 37,
   "id": "18e77257-2155-4005-bff4-702bd24a7cf3",
   "metadata": {},
   "outputs": [
    {
     "data": {
      "text/plain": [
       "Namespace(data_dir='/home/c2hsieh/soft-Q-learning-for-text-generation/tasks/k-shot/subj/16-100', debug_mode=False, demo_filter=False, demo_filter_model=None, demo_filter_rate=0.5, first_sent_limit=None, gpt3_in_context_head=False, gpt3_in_context_num=32, gpt3_in_context_tail=False, mapping=\"{0:'subjective',1:'objective'}\", max_seq_length=512, num_sample=16, other_sent_limit=None, overwrite_cache=None, prompt=True, task_name='subj', template='*cls**sent_0*_This_is*mask*.*sep+*', template_list=None, use_demo=False)"
      ]
     },
     "execution_count": 37,
     "metadata": {},
     "output_type": "execute_result"
    }
   ],
   "source": [
    "task_name = \"subj\"\n",
    "config.task_name = task_name.lower()\n",
    "config.template = \"*cls**sent_0*_This_is*mask*.*sep+*\"\n",
    "config.mapping = \"{0:'subjective',1:'objective'}\"\n",
    "config.data_dir = f\"/home/c2hsieh/soft-Q-learning-for-text-generation/tasks/k-shot/{task_name}/16-{seed}\"\n",
    "config"
   ]
  },
  {
   "cell_type": "code",
   "execution_count": 42,
   "id": "c296fba1-83ad-4b1a-ae51-3290fcd495a1",
   "metadata": {},
   "outputs": [
    {
     "data": {
      "text/plain": [
       "Namespace(data_dir='/home/c2hsieh/soft-Q-learning-for-text-generation/tasks/k-shot/trec/16-100', debug_mode=False, demo_filter=False, demo_filter_model=None, demo_filter_rate=0.5, first_sent_limit=None, gpt3_in_context_head=False, gpt3_in_context_num=32, gpt3_in_context_tail=False, mapping=\"{0:'Description',1:'Entity',2:'Expression',3:'Human',4:'Location',5:'Number'}\", max_seq_length=512, num_sample=16, other_sent_limit=None, overwrite_cache=None, prompt=True, task_name='trec', template='*cls**mask*:*+sent_0**sep+*', template_list=None, use_demo=False)"
      ]
     },
     "execution_count": 42,
     "metadata": {},
     "output_type": "execute_result"
    }
   ],
   "source": [
    "task_name = \"trec\"\n",
    "config.task_name = task_name.lower()\n",
    "config.template = \"*cls**mask*:*+sent_0**sep+*\"\n",
    "config.mapping = \"{0:'Description',1:'Entity',2:'Expression',3:'Human',4:'Location',5:'Number'}\"\n",
    "config.data_dir = f\"/home/c2hsieh/soft-Q-learning-for-text-generation/tasks/k-shot/{task_name}/16-{seed}\"\n",
    "config"
   ]
  },
  {
   "cell_type": "code",
   "execution_count": 47,
   "id": "222917bf-d75e-4201-ab31-4e172f7921c5",
   "metadata": {},
   "outputs": [
    {
     "data": {
      "text/plain": [
       "Namespace(data_dir='/home/c2hsieh/soft-Q-learning-for-text-generation/tasks/k-shot/CoLA/16-100', debug_mode=False, demo_filter=False, demo_filter_model=None, demo_filter_rate=0.5, first_sent_limit=None, gpt3_in_context_head=False, gpt3_in_context_num=32, gpt3_in_context_tail=False, mapping=\"{'0':'incorrect','1':'correct'}\", max_seq_length=512, num_sample=16, other_sent_limit=None, overwrite_cache=None, prompt=True, task_name='cola', template='*cls**sent_0*_This_is*mask*.*sep+*', template_list=None, use_demo=False)"
      ]
     },
     "execution_count": 47,
     "metadata": {},
     "output_type": "execute_result"
    }
   ],
   "source": [
    "task_name = \"CoLA\"\n",
    "config.task_name = task_name.lower()\n",
    "config.template = \"*cls**sent_0*_This_is*mask*.*sep+*\"\n",
    "config.mapping = \"{'0':'incorrect','1':'correct'}\"\n",
    "config.data_dir = f\"/home/c2hsieh/soft-Q-learning-for-text-generation/tasks/k-shot/{task_name}/16-{seed}\"\n",
    "config"
   ]
  },
  {
   "cell_type": "code",
   "execution_count": 7,
   "id": "af37cdeb-c2b5-4991-a648-a1b075336628",
   "metadata": {},
   "outputs": [
    {
     "data": {
      "text/plain": [
       "Namespace(data_dir='/home/c2hsieh/soft-Q-learning-for-text-generation/tasks/k-shot/MNLI/16-100', debug_mode=False, demo_filter=False, demo_filter_model=None, demo_filter_rate=0.5, first_sent_limit=None, gpt3_in_context_head=False, gpt3_in_context_num=32, gpt3_in_context_tail=False, mapping=\"{'contradiction':'No','entailment':'Yes','neutral':'Maybe'}\", max_seq_length=512, num_sample=16, other_sent_limit=None, overwrite_cache=None, prompt=True, task_name='mnli', template='*cls**sent-_0*?*mask*,*+sentl_1**sep+*', template_list=None, use_demo=False)"
      ]
     },
     "execution_count": 7,
     "metadata": {},
     "output_type": "execute_result"
    }
   ],
   "source": [
    "task_name = \"MNLI\"\n",
    "config.task_name = task_name.lower()\n",
    "config.template = \"*cls**sent-_0*?*mask*,*+sentl_1**sep+*\"\n",
    "config.mapping = \"{'contradiction':'No','entailment':'Yes','neutral':'Maybe'}\"\n",
    "config.data_dir = f\"/home/c2hsieh/soft-Q-learning-for-text-generation/tasks/k-shot/{task_name}/16-{seed}\"\n",
    "config"
   ]
  },
  {
   "cell_type": "code",
   "execution_count": 12,
   "id": "7f3ba990-e472-4321-97d8-505716ea6f8d",
   "metadata": {},
   "outputs": [
    {
     "data": {
      "text/plain": [
       "Namespace(data_dir='/home/c2hsieh/soft-Q-learning-for-text-generation/tasks/k-shot/QNLI/16-100', debug_mode=False, demo_filter=False, demo_filter_model=None, demo_filter_rate=0.5, first_sent_limit=None, gpt3_in_context_head=False, gpt3_in_context_num=32, gpt3_in_context_tail=False, mapping=\"{'not_entailment':'No','entailment':'Yes'}\", max_seq_length=512, num_sample=16, other_sent_limit=None, overwrite_cache=None, prompt=True, task_name='qnli', template='*cls**sent-_0*?*mask*,*+sentl_1**sep+*', template_list=None, use_demo=False)"
      ]
     },
     "execution_count": 12,
     "metadata": {},
     "output_type": "execute_result"
    }
   ],
   "source": [
    "task_name = \"QNLI\"\n",
    "config.task_name = task_name.lower()\n",
    "config.template = \"*cls**sent-_0*?*mask*,*+sentl_1**sep+*\"\n",
    "config.mapping = \"{'not_entailment':'No','entailment':'Yes'}\"\n",
    "config.data_dir = f\"/home/c2hsieh/soft-Q-learning-for-text-generation/tasks/k-shot/{task_name}/16-{seed}\"\n",
    "config"
   ]
  },
  {
   "cell_type": "code",
   "execution_count": 22,
   "id": "4892058e-4a20-4911-a22b-f7883f103623",
   "metadata": {},
   "outputs": [
    {
     "data": {
      "text/plain": [
       "Namespace(data_dir='/home/c2hsieh/soft-Q-learning-for-text-generation/tasks/k-shot/SNLI/16-100', debug_mode=False, demo_filter=False, demo_filter_model=None, demo_filter_rate=0.5, first_sent_limit=None, gpt3_in_context_head=False, gpt3_in_context_num=32, gpt3_in_context_tail=False, mapping=\"{'contradiction':'No','entailment':'Yes','neutral':'Maybe'}\", max_seq_length=512, num_sample=16, other_sent_limit=None, overwrite_cache=None, prompt=True, task_name='snli', template='*cls**sent-_0*?*mask*,*+sentl_1**sep+*', template_list=None, use_demo=False)"
      ]
     },
     "execution_count": 22,
     "metadata": {},
     "output_type": "execute_result"
    }
   ],
   "source": [
    "task_name = \"SNLI\"\n",
    "config.task_name = task_name.lower()\n",
    "config.template = \"*cls**sent-_0*?*mask*,*+sentl_1**sep+*\"\n",
    "config.mapping = \"{'contradiction':'No','entailment':'Yes','neutral':'Maybe'}\"\n",
    "config.data_dir = f\"/home/c2hsieh/soft-Q-learning-for-text-generation/tasks/k-shot/{task_name}/16-{seed}\"\n",
    "config"
   ]
  },
  {
   "cell_type": "code",
   "execution_count": 67,
   "id": "832ff168-9102-4697-afff-8e5de1b99e07",
   "metadata": {},
   "outputs": [
    {
     "data": {
      "text/plain": [
       "Namespace(data_dir='/home/c2hsieh/soft-Q-learning-for-text-generation/tasks/k-shot/QQP/16-100', debug_mode=False, demo_filter=False, demo_filter_model=None, demo_filter_rate=0.5, first_sent_limit=None, gpt3_in_context_head=False, gpt3_in_context_num=32, gpt3_in_context_tail=False, mapping=\"{'0':'No','1':'Yes'}\", max_seq_length=512, num_sample=16, other_sent_limit=None, overwrite_cache=None, prompt=True, task_name='qqp', template='*cls**sent_0**mask*,*+sentl_1**sep+*', template_list=None, use_demo=False)"
      ]
     },
     "execution_count": 67,
     "metadata": {},
     "output_type": "execute_result"
    }
   ],
   "source": [
    "task_name = \"QQP\"\n",
    "config.task_name = task_name.lower()\n",
    "config.template = \"*cls**sent_0**mask*,*+sentl_1**sep+*\"\n",
    "config.mapping = \"{'0':'No','1':'Yes'}\"\n",
    "config.data_dir = f\"/home/c2hsieh/soft-Q-learning-for-text-generation/tasks/k-shot/{task_name}/16-{seed}\"\n",
    "config"
   ]
  },
  {
   "cell_type": "code",
   "execution_count": 72,
   "id": "4635af97-89e8-4098-b994-f48323e19294",
   "metadata": {},
   "outputs": [
    {
     "data": {
      "text/plain": [
       "Namespace(data_dir='/home/c2hsieh/soft-Q-learning-for-text-generation/tasks/k-shot/RTE/16-100', debug_mode=False, demo_filter=False, demo_filter_model=None, demo_filter_rate=0.5, first_sent_limit=None, gpt3_in_context_head=False, gpt3_in_context_num=32, gpt3_in_context_tail=False, mapping=\"{'not_entailment':'No','entailment':'Yes'}\", max_seq_length=512, num_sample=16, other_sent_limit=None, overwrite_cache=None, prompt=True, task_name='rte', template='*cls**sent-_0*?*mask*,*+sentl_1**sep+*', template_list=None, use_demo=False)"
      ]
     },
     "execution_count": 72,
     "metadata": {},
     "output_type": "execute_result"
    }
   ],
   "source": [
    "task_name = \"RTE\"\n",
    "config.task_name = task_name.lower()\n",
    "config.template = \"*cls**sent-_0*?*mask*,*+sentl_1**sep+*\"\n",
    "config.mapping = \"{'not_entailment':'No','entailment':'Yes'}\"\n",
    "config.data_dir = f\"/home/c2hsieh/soft-Q-learning-for-text-generation/tasks/k-shot/{task_name}/16-{seed}\"\n",
    "config"
   ]
  },
  {
   "cell_type": "code",
   "execution_count": 27,
   "id": "c036a1ae-922a-4117-ab10-683bf0ac4409",
   "metadata": {},
   "outputs": [
    {
     "data": {
      "text/plain": [
       "Namespace(data_dir='/home/c2hsieh/soft-Q-learning-for-text-generation/tasks/k-shot/yelp-2/16-100', debug_mode=False, demo_filter=False, demo_filter_model=None, demo_filter_rate=0.5, double_demo=False, first_sent_limit=None, gpt3_in_context_head=False, gpt3_in_context_num=32, gpt3_in_context_tail=False, mapping=\"{0:'terrible',1:'great'}\", max_seq_length=512, num_sample=16, other_sent_limit=None, overwrite_cache=None, prompt=True, task_name='yelp-2', template='*cls**sent_0*_It_was*mask*.*sep**sent_1*_It_was*label_0*.*sep**sent_2*_It_was*label_1*.*sep+*', template_list=None, truncate_head=False, use_demo=True)"
      ]
     },
     "execution_count": 27,
     "metadata": {},
     "output_type": "execute_result"
    }
   ],
   "source": [
    "task_name = \"yelp-2\"\n",
    "config.task_name = task_name.lower()\n",
    "# config.template = \"*cls**sent_0*_It_was*mask*.*sep+*\"\n",
    "config.template = \"*cls**sent_0*_It_was*mask*.*sep**sent_1*_It_was*label_0*.*sep**sent_2*_It_was*label_1*.*sep+*\"\n",
    "config.mapping = \"{0:\\'terrible\\',1:\\'great\\'}\"\n",
    "config.data_dir = f\"/home/c2hsieh/soft-Q-learning-for-text-generation/tasks/k-shot/{task_name}/16-{seed}\"\n",
    "config"
   ]
  },
  {
   "cell_type": "code",
   "execution_count": 47,
   "id": "4cf5c935-9db7-4c2f-a1c4-c5b674e54271",
   "metadata": {},
   "outputs": [
    {
     "data": {
      "text/plain": [
       "Namespace(data_dir='/home/c2hsieh/soft-Q-learning-for-text-generation/tasks/k-shot/agnews/16-100', debug_mode=False, demo_filter=False, demo_filter_model=None, demo_filter_rate=0.5, first_sent_limit=None, gpt3_in_context_head=False, gpt3_in_context_num=32, gpt3_in_context_tail=False, mapping=\"{0:'World',1:'Sports',2:'Business',3:'Tech'}\", max_seq_length=512, num_sample=16, other_sent_limit=None, overwrite_cache=None, prompt=True, task_name='agnews', template='*cls**mask*_News:*sent_0*.*sep+*', template_list=None, use_demo=False)"
      ]
     },
     "execution_count": 47,
     "metadata": {},
     "output_type": "execute_result"
    }
   ],
   "source": [
    "task_name = \"agnews\"\n",
    "config.task_name = task_name.lower()\n",
    "config.template = \"*cls**mask*_News:*sent_0*.*sep+*\"\n",
    "config.mapping = \"{0:\\'World\\',1:\\'Sports\\',2:\\'Business\\',3:\\'Tech\\'}\"\n",
    "config.data_dir = f\"/home/c2hsieh/soft-Q-learning-for-text-generation/tasks/k-shot/{task_name}/16-{seed}\"\n",
    "config"
   ]
  },
  {
   "cell_type": "code",
   "execution_count": 7,
   "id": "7f40f2a6-ebbb-4dc8-a7c6-bdaeef82c779",
   "metadata": {},
   "outputs": [
    {
     "data": {
      "text/plain": [
       "Namespace(data_dir='/home/c2hsieh/soft-Q-learning-for-text-generation/tasks/k-shot/dbpedia/16-100', debug_mode=False, demo_filter=False, demo_filter_model=None, demo_filter_rate=0.5, first_sent_limit=None, gpt3_in_context_head=False, gpt3_in_context_num=32, gpt3_in_context_tail=False, mapping=\"{0:'Company',1:'Education',2:'Artist',3:'Athlete',4:'Office',5:'Transportation',6:'Building',7:'Natural',8:'Village',9:'Animal',10:'Plant',11:'Album',12:'Film',13:'Written'}\", max_seq_length=512, num_sample=16, other_sent_limit=None, overwrite_cache=None, prompt=True, skip_space=True, task_name='dbpedia', template='*cls*[Category: *mask*]*sent_0**sep+*', template_list=None, use_demo=False)"
      ]
     },
     "execution_count": 7,
     "metadata": {},
     "output_type": "execute_result"
    }
   ],
   "source": [
    "task_name = \"dbpedia\"\n",
    "config.task_name = task_name.lower()\n",
    "config.template = \"*cls*[Category: *mask*]*sent_0**sep+*\"\n",
    "config.mapping = \"{0:\\'Company\\',1:\\'Education\\',2:\\'Artist\\',3:\\'Athlete\\',4:\\'Office\\',5:\\'Transportation\\',6:\\'Building\\',7:\\'Natural\\',8:\\'Village\\',9:\\'Animal\\',10:\\'Plant\\',11:\\'Album\\',12:\\'Film\\',13:\\'Written\\'}\"\n",
    "config.data_dir = f\"/home/c2hsieh/soft-Q-learning-for-text-generation/tasks/k-shot/{task_name}/16-{seed}\"\n",
    "config.skip_space = True\n",
    "config"
   ]
  },
  {
   "cell_type": "code",
   "execution_count": 19,
   "id": "80b59098-442a-42c2-be9f-0f99fb5b45b6",
   "metadata": {},
   "outputs": [
    {
     "data": {
      "text/plain": [
       "Namespace(data_dir='/home/c2hsieh/soft-Q-learning-for-text-generation/tasks/k-shot/MRPC/16-100', debug_mode=False, demo_filter=False, demo_filter_model=None, demo_filter_rate=0.5, double_demo=False, first_sent_limit=None, gpt3_in_context_head=False, gpt3_in_context_num=32, gpt3_in_context_tail=False, mapping=\"{'0':'No','1':'Yes'}\", max_seq_length=512, num_sample=1, other_sent_limit=None, overwrite_cache=None, prompt=True, task_name='mrpc', template='*cls**sent_0**mask*,*+sentl_1**sep**sent_2**label_0*,*+sentl_3**sep**sent_4**label_1*,*+sentl_5**sep*', template_list=None, truncate_head=False, use_demo=True)"
      ]
     },
     "execution_count": 19,
     "metadata": {},
     "output_type": "execute_result"
    }
   ],
   "source": [
    "config.use_demo = True\n",
    "config.double_demo = False\n",
    "config.truncate_head = False\n",
    "config.num_sample = 1\n",
    "config"
   ]
  },
  {
   "cell_type": "code",
   "execution_count": 20,
   "id": "2c0fa6ca-5d41-4272-ac79-c9efb3bc2f52",
   "metadata": {},
   "outputs": [],
   "source": [
    "dataset = FewShotDataset(config, tokenizer=tokenizer, mode=\"test\")\n",
    "# dataset.use_learned_prompt = True\n",
    "# dataset.set_learned_prompt([prompt_string])\n",
    "metrics_fn = compute_metrics_mapping[config.task_name]"
   ]
  },
  {
   "cell_type": "code",
   "execution_count": 21,
   "id": "6a07b413-336e-4061-a535-e5109b50362b",
   "metadata": {},
   "outputs": [
    {
     "data": {
      "text/plain": [
       "['ĠNo', 'ĠYes']"
      ]
     },
     "execution_count": 21,
     "metadata": {},
     "output_type": "execute_result"
    }
   ],
   "source": [
    "[tokenizer.convert_ids_to_tokens(i) for i in dataset.get_labels_tok()]"
   ]
  },
  {
   "cell_type": "code",
   "execution_count": 22,
   "id": "0a768c72-52ca-4245-bc2a-6aeb314e1878",
   "metadata": {},
   "outputs": [
    {
     "data": {
      "text/plain": [
       "'<s>He said the foodservice pie business doesn \\'t fit the company\\'s long-term growth strategy.<mask>, \" The foodservice pie business does not fit our long-term growth strategy.</s>Last week, Prime Minister Atal Bihari Vajpayee ended an 18-month chill in relations by ordering normalisation of diplomatic ties and restoration of air services with Pakistan. No, the move follows a recent proposal by Mr Vajpayee, whoended an 18-month chill in relations by ordering normalisation of diplomatic links and restoration of air services with Pakistan.</s>The 39-year-old Luster initially gave police a false name, but later revealed his true identity. Yes, barrera said Luster gave police a false name immediately after his arrest Wednesday but later revealed his true identity.</s><pad><pad><pad><pad><pad><pad><pad><pad><pad><pad><pad><pad><pad><pad><pad><pad><pad><pad><pad><pad><pad><pad><pad><pad><pad><pad><pad><pad><pad><pad><pad><pad><pad><pad><pad><pad><pad><pad><pad><pad><pad><pad><pad><pad><pad><pad><pad><pad><pad><pad><pad><pad><pad><pad><pad><pad><pad><pad><pad><pad><pad><pad><pad><pad><pad><pad><pad><pad><pad><pad><pad><pad><pad><pad><pad><pad><pad><pad><pad><pad><pad><pad><pad><pad><pad><pad><pad><pad><pad><pad><pad><pad><pad><pad><pad><pad><pad><pad><pad><pad><pad><pad><pad><pad><pad><pad><pad><pad><pad><pad><pad><pad><pad><pad><pad><pad><pad><pad><pad><pad><pad><pad><pad><pad><pad><pad><pad><pad><pad><pad><pad><pad><pad><pad><pad><pad><pad><pad><pad><pad><pad><pad><pad><pad><pad><pad><pad><pad><pad><pad><pad><pad><pad><pad><pad><pad><pad><pad><pad><pad><pad><pad><pad><pad><pad><pad><pad><pad><pad><pad><pad><pad><pad><pad><pad><pad><pad><pad><pad><pad><pad><pad><pad><pad><pad><pad><pad><pad><pad><pad><pad><pad><pad><pad><pad><pad><pad><pad><pad><pad><pad><pad><pad><pad><pad><pad><pad><pad><pad><pad><pad><pad><pad><pad><pad><pad><pad><pad><pad><pad><pad><pad><pad><pad><pad><pad><pad><pad><pad><pad><pad><pad><pad><pad><pad><pad><pad><pad><pad><pad><pad><pad><pad><pad><pad><pad><pad><pad><pad><pad><pad><pad><pad><pad><pad><pad><pad><pad><pad><pad><pad><pad><pad><pad><pad><pad><pad><pad><pad><pad><pad><pad><pad><pad><pad><pad><pad><pad><pad><pad><pad><pad><pad><pad><pad><pad><pad><pad><pad><pad><pad><pad><pad><pad><pad><pad><pad><pad><pad><pad><pad><pad><pad><pad><pad><pad><pad><pad><pad><pad><pad><pad><pad><pad><pad><pad><pad><pad><pad><pad><pad><pad><pad><pad><pad><pad><pad><pad><pad><pad><pad><pad><pad><pad><pad><pad><pad><pad><pad><pad><pad><pad><pad><pad><pad><pad><pad><pad><pad>'"
      ]
     },
     "execution_count": 22,
     "metadata": {},
     "output_type": "execute_result"
    }
   ],
   "source": [
    "f = dataset.__getitem__(0)\n",
    "tokenizer.decode(f.input_ids)"
   ]
  },
  {
   "cell_type": "code",
   "execution_count": 23,
   "id": "9071ffab-0b82-458e-b29d-3c9ef0f2ba2b",
   "metadata": {},
   "outputs": [
    {
     "data": {
      "application/vnd.jupyter.widget-view+json": {
       "model_id": "49f561dd95f34faaa4d06a9feb509e8a",
       "version_major": 2,
       "version_minor": 0
      },
      "text/plain": [
       "  0%|          | 0/26 [00:00<?, ?it/s]"
      ]
     },
     "metadata": {},
     "output_type": "display_data"
    },
    {
     "name": "stdout",
     "output_type": "stream",
     "text": [
      "huggingface/tokenizers: The current process just got forked, after parallelism has already been used. Disabling parallelism to avoid deadlocks...\n",
      "To disable this warning, you can either:\n",
      "\t- Avoid using `tokenizers` before the fork if possible\n",
      "\t- Explicitly set the environment variable TOKENIZERS_PARALLELISM=(true | false)\n",
      "huggingface/tokenizers: The current process just got forked, after parallelism has already been used. Disabling parallelism to avoid deadlocks...\n",
      "To disable this warning, you can either:\n",
      "\t- Avoid using `tokenizers` before the fork if possible\n",
      "\t- Explicitly set the environment variable TOKENIZERS_PARALLELISM=(true | false)\n",
      "huggingface/tokenizers: The current process just got forked, after parallelism has already been used. Disabling parallelism to avoid deadlocks...\n",
      "To disable this warning, you can either:\n",
      "\t- Avoid using `tokenizers` before the fork if possible\n",
      "\t- Explicitly set the environment variable TOKENIZERS_PARALLELISM=(true | false)\n",
      "huggingface/tokenizers: The current process just got forked, after parallelism has already been used. Disabling parallelism to avoid deadlocks...\n",
      "To disable this warning, you can either:\n",
      "\t- Avoid using `tokenizers` before the fork if possible\n",
      "\t- Explicitly set the environment variable TOKENIZERS_PARALLELISM=(true | false)\n",
      "huggingface/tokenizers: The current process just got forked, after parallelism has already been used. Disabling parallelism to avoid deadlocks...\n",
      "To disable this warning, you can either:\n",
      "\t- Avoid using `tokenizers` before the fork if possible\n",
      "\t- Explicitly set the environment variable TOKENIZERS_PARALLELISM=(true | false)\n",
      "huggingface/tokenizers: The current process just got forked, after parallelism has already been used. Disabling parallelism to avoid deadlocks...\n",
      "To disable this warning, you can either:\n",
      "\t- Avoid using `tokenizers` before the fork if possible\n",
      "\t- Explicitly set the environment variable TOKENIZERS_PARALLELISM=(true | false)\n",
      "huggingface/tokenizers: The current process just got forked, after parallelism has already been used. Disabling parallelism to avoid deadlocks...\n",
      "To disable this warning, you can either:\n",
      "\t- Avoid using `tokenizers` before the fork if possible\n",
      "\t- Explicitly set the environment variable TOKENIZERS_PARALLELISM=(true | false)\n"
     ]
    },
    {
     "name": "stderr",
     "output_type": "stream",
     "text": [
      "/datasets/home/62/462/c2hsieh/anaconda3/envs/sql/lib/python3.7/site-packages/transformers/data/metrics/__init__.py:66: FutureWarning: This metric will be removed from the library soon, metrics should be handled with the 🤗 Datasets library. You can have a look at this example script for pointers: https://github.com/huggingface/transformers/blob/master/examples/pytorch/text-classification/run_glue.py\n",
      "  warnings.warn(DEPRECATION_WARNING, FutureWarning)\n",
      "/datasets/home/62/462/c2hsieh/anaconda3/envs/sql/lib/python3.7/site-packages/transformers/data/metrics/__init__.py:42: FutureWarning: This metric will be removed from the library soon, metrics should be handled with the 🤗 Datasets library. You can have a look at this example script for pointers: https://github.com/huggingface/transformers/blob/master/examples/pytorch/text-classification/run_glue.py\n",
      "  warnings.warn(DEPRECATION_WARNING, FutureWarning)\n",
      "/datasets/home/62/462/c2hsieh/anaconda3/envs/sql/lib/python3.7/site-packages/transformers/data/metrics/__init__.py:36: FutureWarning: This metric will be removed from the library soon, metrics should be handled with the 🤗 Datasets library. You can have a look at this example script for pointers: https://github.com/huggingface/transformers/blob/master/examples/pytorch/text-classification/run_glue.py\n",
      "  warnings.warn(DEPRECATION_WARNING, FutureWarning)\n"
     ]
    },
    {
     "data": {
      "text/plain": [
       "{'acc': 0.5122549019607843,\n",
       " 'f1': 0.6209523809523808,\n",
       " 'acc_and_f1': 0.5666036414565825}"
      ]
     },
     "execution_count": 23,
     "metadata": {},
     "output_type": "execute_result"
    }
   ],
   "source": [
    "dataloader = DataLoader(dataset, collate_fn=dataset.collate_fn, num_workers=4, pin_memory=True, batch_size=16, shuffle=False)\n",
    "pred_labels, true_labels = [], []\n",
    "for batch in tqdm(dataloader):\n",
    "    with torch.no_grad():\n",
    "        logits = generator(\n",
    "            input_ids=batch['input_ids'].to(device),\n",
    "            attention_mask=batch['attention_mask'].to(device),\n",
    "        ).logits.cpu()\n",
    "\n",
    "    logits = logits[range(logits.shape[0]), batch['mask_pos'].squeeze()]\n",
    "    pred_labels += logits[:, dataset.get_labels_tok()].argmax(1).tolist()\n",
    "    true_labels += batch['labels'].squeeze().tolist()\n",
    "\n",
    "metrics = metrics_fn(config.task_name, np.array(pred_labels), np.array(true_labels))\n",
    "metrics"
   ]
  },
  {
   "cell_type": "code",
   "execution_count": null,
   "id": "147a7563-33bb-44c7-b8d2-742f36fd9ffd",
   "metadata": {},
   "outputs": [],
   "source": []
  }
 ],
 "metadata": {
  "kernelspec": {
   "display_name": "sql",
   "language": "python",
   "name": "sql"
  },
  "language_info": {
   "codemirror_mode": {
    "name": "ipython",
    "version": 3
   },
   "file_extension": ".py",
   "mimetype": "text/x-python",
   "name": "python",
   "nbconvert_exporter": "python",
   "pygments_lexer": "ipython3",
   "version": "3.7.11"
  }
 },
 "nbformat": 4,
 "nbformat_minor": 5
}
